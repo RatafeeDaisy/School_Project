{
 "cells": [
  {
   "cell_type": "code",
   "execution_count": 1,
   "metadata": {
    "collapsed": true
   },
   "outputs": [],
   "source": [
    "import pandas as pd\n",
    "import numpy as np"
   ]
  },
  {
   "cell_type": "code",
   "execution_count": 2,
   "outputs": [],
   "source": [
    "#读取文件\n",
    "data = pd.read_csv(\"car/second_cars_info.csv\",encoding='GB18030')"
   ],
   "metadata": {
    "collapsed": false
   }
  },
  {
   "cell_type": "code",
   "execution_count": 3,
   "outputs": [
    {
     "data": {
      "text/plain": "0.00824395000443223"
     },
     "execution_count": 3,
     "metadata": {},
     "output_type": "execute_result"
    }
   ],
   "source": [
    "#未上牌比例\n",
    "nocard_car_total = data[data.Boarding_time == \"未上牌\"].count()[0]\n",
    "nocard_car_total/data.count()[0]"
   ],
   "metadata": {
    "collapsed": false
   }
  },
  {
   "cell_type": "code",
   "execution_count": 27,
   "outputs": [
    {
     "data": {
      "text/plain": "11280.991756049996"
     },
     "execution_count": 27,
     "metadata": {},
     "output_type": "execute_result"
    }
   ],
   "source": [
    "#上牌比例\n",
    "data.count()[0] - nocard_car_total/data.count()[0]"
   ],
   "metadata": {
    "collapsed": false
   }
  },
  {
   "cell_type": "code",
   "execution_count": 28,
   "outputs": [],
   "source": [
    "#清洗中文\n",
    "data['New_price'] = data['New_price'].str.extract('(\\d+\\.?\\d+)', expand=True)\n",
    "data['Km'] = data['Km'].str.extract('(\\d+\\.?\\d+)', expand=True)\n",
    "data['New_price'] = data['New_price'].astype('float')\n",
    "data['Sec_price'] = data['Sec_price'].astype('float')\n",
    "data['Km'] = data['Km'].astype('float')"
   ],
   "metadata": {
    "collapsed": false
   }
  },
  {
   "cell_type": "code",
   "execution_count": 5,
   "outputs": [
    {
     "data": {
      "text/plain": "      Brand                            Name Boarding_time        Km Discharge  \\\n0        奥迪         奥迪A6L 2006款 2.4 CVT 舒适型       2006年8月   9.00万公里        国3   \n1        奥迪         奥迪A6L 2007款 2.4 CVT 舒适型       2007年1月   8.00万公里        国4   \n2        奥迪          奥迪A6L 2004款 2.4L 技术领先型       2005年5月  15.00万公里        国2   \n3        奥迪  奥迪A8L 2013款 45 TFSI quattro舒适型      2013年10月   4.80万公里        欧4   \n4        奥迪          奥迪A6L 2014款 30 FSI 豪华型       2014年9月   0.81万公里     国4,国5   \n...     ...                             ...           ...       ...       ...   \n11276    中华          中华V3 2016款 1.5L 自动 智能型       2016年6月   1.90万公里     国4,国5   \n11277    中华           骏捷FRV 2010款 1.3MT 舒适型       2011年6月   5.00万公里        国4   \n11278    中华             骏捷 2007款 1.8 MT 豪华型      2007年10月   8.50万公里        国3   \n11279    中华            骏捷FSV 2010款 1.5MT精英型      2011年12月   7.80万公里        国4   \n11280  中欧房车              尊逸 2013款 3.5L 尊逸A型       2014年4月   6.80万公里        欧4   \n\n       Sec_price New_price  \n0           6.90    50.89万  \n1           8.88    50.89万  \n2           3.82    54.24万  \n3          44.80   101.06万  \n4          33.19    54.99万  \n...          ...       ...  \n11276       7.00     9.63万  \n11277       2.20     6.22万  \n11278       1.80    11.48万  \n11279       2.10     8.99万  \n11280      53.80   168.25万  \n\n[11188 rows x 7 columns]",
      "text/html": "<div>\n<style scoped>\n    .dataframe tbody tr th:only-of-type {\n        vertical-align: middle;\n    }\n\n    .dataframe tbody tr th {\n        vertical-align: top;\n    }\n\n    .dataframe thead th {\n        text-align: right;\n    }\n</style>\n<table border=\"1\" class=\"dataframe\">\n  <thead>\n    <tr style=\"text-align: right;\">\n      <th></th>\n      <th>Brand</th>\n      <th>Name</th>\n      <th>Boarding_time</th>\n      <th>Km</th>\n      <th>Discharge</th>\n      <th>Sec_price</th>\n      <th>New_price</th>\n    </tr>\n  </thead>\n  <tbody>\n    <tr>\n      <th>0</th>\n      <td>奥迪</td>\n      <td>奥迪A6L 2006款 2.4 CVT 舒适型</td>\n      <td>2006年8月</td>\n      <td>9.00万公里</td>\n      <td>国3</td>\n      <td>6.90</td>\n      <td>50.89万</td>\n    </tr>\n    <tr>\n      <th>1</th>\n      <td>奥迪</td>\n      <td>奥迪A6L 2007款 2.4 CVT 舒适型</td>\n      <td>2007年1月</td>\n      <td>8.00万公里</td>\n      <td>国4</td>\n      <td>8.88</td>\n      <td>50.89万</td>\n    </tr>\n    <tr>\n      <th>2</th>\n      <td>奥迪</td>\n      <td>奥迪A6L 2004款 2.4L 技术领先型</td>\n      <td>2005年5月</td>\n      <td>15.00万公里</td>\n      <td>国2</td>\n      <td>3.82</td>\n      <td>54.24万</td>\n    </tr>\n    <tr>\n      <th>3</th>\n      <td>奥迪</td>\n      <td>奥迪A8L 2013款 45 TFSI quattro舒适型</td>\n      <td>2013年10月</td>\n      <td>4.80万公里</td>\n      <td>欧4</td>\n      <td>44.80</td>\n      <td>101.06万</td>\n    </tr>\n    <tr>\n      <th>4</th>\n      <td>奥迪</td>\n      <td>奥迪A6L 2014款 30 FSI 豪华型</td>\n      <td>2014年9月</td>\n      <td>0.81万公里</td>\n      <td>国4,国5</td>\n      <td>33.19</td>\n      <td>54.99万</td>\n    </tr>\n    <tr>\n      <th>...</th>\n      <td>...</td>\n      <td>...</td>\n      <td>...</td>\n      <td>...</td>\n      <td>...</td>\n      <td>...</td>\n      <td>...</td>\n    </tr>\n    <tr>\n      <th>11276</th>\n      <td>中华</td>\n      <td>中华V3 2016款 1.5L 自动 智能型</td>\n      <td>2016年6月</td>\n      <td>1.90万公里</td>\n      <td>国4,国5</td>\n      <td>7.00</td>\n      <td>9.63万</td>\n    </tr>\n    <tr>\n      <th>11277</th>\n      <td>中华</td>\n      <td>骏捷FRV 2010款 1.3MT 舒适型</td>\n      <td>2011年6月</td>\n      <td>5.00万公里</td>\n      <td>国4</td>\n      <td>2.20</td>\n      <td>6.22万</td>\n    </tr>\n    <tr>\n      <th>11278</th>\n      <td>中华</td>\n      <td>骏捷 2007款 1.8 MT 豪华型</td>\n      <td>2007年10月</td>\n      <td>8.50万公里</td>\n      <td>国3</td>\n      <td>1.80</td>\n      <td>11.48万</td>\n    </tr>\n    <tr>\n      <th>11279</th>\n      <td>中华</td>\n      <td>骏捷FSV 2010款 1.5MT精英型</td>\n      <td>2011年12月</td>\n      <td>7.80万公里</td>\n      <td>国4</td>\n      <td>2.10</td>\n      <td>8.99万</td>\n    </tr>\n    <tr>\n      <th>11280</th>\n      <td>中欧房车</td>\n      <td>尊逸 2013款 3.5L 尊逸A型</td>\n      <td>2014年4月</td>\n      <td>6.80万公里</td>\n      <td>欧4</td>\n      <td>53.80</td>\n      <td>168.25万</td>\n    </tr>\n  </tbody>\n</table>\n<p>11188 rows × 7 columns</p>\n</div>"
     },
     "execution_count": 5,
     "metadata": {},
     "output_type": "execute_result"
    }
   ],
   "source": [
    "#删除未上牌车辆\n",
    "data.drop(data[(data.Boarding_time == \"未上牌\")].index.tolist())"
   ],
   "metadata": {
    "collapsed": false
   }
  },
  {
   "cell_type": "code",
   "execution_count": 6,
   "outputs": [
    {
     "data": {
      "text/plain": "                                 Name Boarding_time\n0             奥迪A6L 2006款 2.4 CVT 舒适型       2006年8月\n1             奥迪A6L 2007款 2.4 CVT 舒适型       2007年1月\n2              奥迪A6L 2004款 2.4L 技术领先型       2005年5月\n3      奥迪A8L 2013款 45 TFSI quattro舒适型      2013年10月\n4              奥迪A6L 2014款 30 FSI 豪华型       2014年9月\n...                               ...           ...\n11276          中华V3 2016款 1.5L 自动 智能型       2016年6月\n11277           骏捷FRV 2010款 1.3MT 舒适型       2011年6月\n11278             骏捷 2007款 1.8 MT 豪华型      2007年10月\n11279            骏捷FSV 2010款 1.5MT精英型      2011年12月\n11280              尊逸 2013款 3.5L 尊逸A型       2014年4月\n\n[11188 rows x 2 columns]",
      "text/html": "<div>\n<style scoped>\n    .dataframe tbody tr th:only-of-type {\n        vertical-align: middle;\n    }\n\n    .dataframe tbody tr th {\n        vertical-align: top;\n    }\n\n    .dataframe thead th {\n        text-align: right;\n    }\n</style>\n<table border=\"1\" class=\"dataframe\">\n  <thead>\n    <tr style=\"text-align: right;\">\n      <th></th>\n      <th>Name</th>\n      <th>Boarding_time</th>\n    </tr>\n  </thead>\n  <tbody>\n    <tr>\n      <th>0</th>\n      <td>奥迪A6L 2006款 2.4 CVT 舒适型</td>\n      <td>2006年8月</td>\n    </tr>\n    <tr>\n      <th>1</th>\n      <td>奥迪A6L 2007款 2.4 CVT 舒适型</td>\n      <td>2007年1月</td>\n    </tr>\n    <tr>\n      <th>2</th>\n      <td>奥迪A6L 2004款 2.4L 技术领先型</td>\n      <td>2005年5月</td>\n    </tr>\n    <tr>\n      <th>3</th>\n      <td>奥迪A8L 2013款 45 TFSI quattro舒适型</td>\n      <td>2013年10月</td>\n    </tr>\n    <tr>\n      <th>4</th>\n      <td>奥迪A6L 2014款 30 FSI 豪华型</td>\n      <td>2014年9月</td>\n    </tr>\n    <tr>\n      <th>...</th>\n      <td>...</td>\n      <td>...</td>\n    </tr>\n    <tr>\n      <th>11276</th>\n      <td>中华V3 2016款 1.5L 自动 智能型</td>\n      <td>2016年6月</td>\n    </tr>\n    <tr>\n      <th>11277</th>\n      <td>骏捷FRV 2010款 1.3MT 舒适型</td>\n      <td>2011年6月</td>\n    </tr>\n    <tr>\n      <th>11278</th>\n      <td>骏捷 2007款 1.8 MT 豪华型</td>\n      <td>2007年10月</td>\n    </tr>\n    <tr>\n      <th>11279</th>\n      <td>骏捷FSV 2010款 1.5MT精英型</td>\n      <td>2011年12月</td>\n    </tr>\n    <tr>\n      <th>11280</th>\n      <td>尊逸 2013款 3.5L 尊逸A型</td>\n      <td>2014年4月</td>\n    </tr>\n  </tbody>\n</table>\n<p>11188 rows × 2 columns</p>\n</div>"
     },
     "execution_count": 6,
     "metadata": {},
     "output_type": "execute_result"
    }
   ],
   "source": [
    "#提取上牌车年月信息\n",
    "data[['Name','Boarding_time']].loc[data['Boarding_time'] !='未上牌']"
   ],
   "metadata": {
    "collapsed": false
   }
  },
  {
   "cell_type": "code",
   "execution_count": 9,
   "outputs": [
    {
     "data": {
      "text/plain": "0_20w       7875\n20_40w      1837\n40_60w       525\n60_80w       339\n100_200w     286\n80_100w      174\nName: Sec_price, dtype: int64"
     },
     "execution_count": 9,
     "metadata": {},
     "output_type": "execute_result"
    }
   ],
   "source": [
    "#车辆价格分布情况\n",
    "pd.cut(x=data.Sec_price,bins=[0,20,40,60,80,100,200],\n",
    "       labels=['0_20w','20_40w','40_60w','60_80w','80_100w','100_200w'],\n",
    "       ).value_counts()"
   ],
   "metadata": {
    "collapsed": false
   }
  },
  {
   "cell_type": "code",
   "execution_count": 20,
   "outputs": [
    {
     "data": {
      "text/plain": "     奔驰   宝马   奥迪\n销量  895  773  758",
      "text/html": "<div>\n<style scoped>\n    .dataframe tbody tr th:only-of-type {\n        vertical-align: middle;\n    }\n\n    .dataframe tbody tr th {\n        vertical-align: top;\n    }\n\n    .dataframe thead th {\n        text-align: right;\n    }\n</style>\n<table border=\"1\" class=\"dataframe\">\n  <thead>\n    <tr style=\"text-align: right;\">\n      <th></th>\n      <th>奔驰</th>\n      <th>宝马</th>\n      <th>奥迪</th>\n    </tr>\n  </thead>\n  <tbody>\n    <tr>\n      <th>销量</th>\n      <td>895</td>\n      <td>773</td>\n      <td>758</td>\n    </tr>\n  </tbody>\n</table>\n</div>"
     },
     "execution_count": 20,
     "metadata": {},
     "output_type": "execute_result"
    }
   ],
   "source": [
    "#车辆销量品牌分布\n",
    "brand = {\"奔驰\":data[data.Brand == \"奔驰\"].count()[0],\n",
    "         \"宝马\":data[data.Brand == \"宝马\"].count()[0],\n",
    "         \"奥迪\":data[data.Brand == \"奥迪\"].count()[0]}\n",
    "brand_all = pd.DataFrame(brand,index=['销量'])\n",
    "brand_all"
   ],
   "metadata": {
    "collapsed": false
   }
  },
  {
   "cell_type": "code",
   "execution_count": 22,
   "outputs": [
    {
     "data": {
      "text/plain": "国4           4300\n欧4           1898\n欧5           1201\n国4,国5         848\n国3            798\n国5            683\n欧3            292\n--            276\n国2            241\n国4,京5         223\n国3,OBD        119\nOBD            90\n国4,OBD         63\n欧4,OBD         62\nOBD,国5         38\n欧6             36\n国4,OBD,国5      31\n国5,京5          22\n欧5,OBD          9\n欧4,欧5           9\n欧5,国4           7\n欧4,国3           7\n国4,OBD,京5       6\n欧4,国4           6\n欧4,国4,OBD       5\n欧3,欧4           2\n欧5,国5           2\n国4,国5,京5        1\n欧1              1\n欧2              1\n京5              1\n国3,国4           1\n欧4,--           1\n欧5,国4,国5        1\nName: Discharge, dtype: int64"
     },
     "execution_count": 22,
     "metadata": {},
     "output_type": "execute_result"
    }
   ],
   "source": [
    "#排放标准分析\n",
    "data[\"Discharge\"].value_counts()"
   ],
   "metadata": {
    "collapsed": false
   }
  },
  {
   "cell_type": "code",
   "execution_count": 30,
   "outputs": [
    {
     "data": {
      "text/plain": "7_9      3734\n4_6      3455\n0_3      2218\n10_12    1239\n13_15     361\n15+       177\nName: Km, dtype: int64"
     },
     "execution_count": 30,
     "metadata": {},
     "output_type": "execute_result"
    }
   ],
   "source": [
    "#里程分析\n",
    "pd.cut(x=data.Km,bins=[0,3,6,9,12,15,1000000],\n",
    "       labels=['0_3','4_6','7_9','10_12','13_15','15+'],\n",
    "       ).value_counts()"
   ],
   "metadata": {
    "collapsed": false
   }
  },
  {
   "cell_type": "code",
   "execution_count": 32,
   "outputs": [
    {
     "data": {
      "text/plain": "20%-40%    4402\n40%-60%    3242\n60%-80%    1898\n20%-       1002\n80%+        485\nName: zhejiu, dtype: int64"
     },
     "execution_count": 32,
     "metadata": {},
     "output_type": "execute_result"
    }
   ],
   "source": [
    "data['zhejiu'] = data.apply(lambda x: x['Sec_price'] / x['New_price'], axis=1)\n",
    "pd.cut(data['zhejiu'], bins=[0,0.2,0.4,0.6,0.8,1],\n",
    "                labels=['20%-','20%-40%','40%-60%','60%-80%','80%+'],\n",
    "                include_lowest=True).value_counts()"
   ],
   "metadata": {
    "collapsed": false
   }
  }
 ],
 "metadata": {
  "kernelspec": {
   "display_name": "Python 3",
   "language": "python",
   "name": "python3"
  },
  "language_info": {
   "codemirror_mode": {
    "name": "ipython",
    "version": 2
   },
   "file_extension": ".py",
   "mimetype": "text/x-python",
   "name": "python",
   "nbconvert_exporter": "python",
   "pygments_lexer": "ipython2",
   "version": "2.7.6"
  }
 },
 "nbformat": 4,
 "nbformat_minor": 0
}
